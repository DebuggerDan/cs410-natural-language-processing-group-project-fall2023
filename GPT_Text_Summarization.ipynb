{
 "cells": [
  {
   "cell_type": "markdown",
   "metadata": {},
   "source": [
    "1. To execute the program locally, first make sure you have updated your pip to the latest setting:\n",
    "pip install --upgrade pip\n",
    "\n",
    "2. Install TensorFlow with pip. For GPU users:\n",
    "pip install tensorflow[and-cuda]\n",
    "For CPU users:\n",
    "pip install tensorflow"
   ]
  },
  {
   "cell_type": "code",
   "execution_count": null,
   "metadata": {},
   "outputs": [],
   "source": [
    "from abc import ABC, abstractmethod\n",
    "\n",
    "class NLPModelInterface(ABC):\n",
    "    @abstractmethod\n",
    "    def load_model(self):\n",
    "        \"\"\"Load the model\"\"\"\n",
    "        pass\n",
    "\n",
    "    @abstractmethod\n",
    "    def preprocess_data(self, data):\n",
    "        \"\"\"Preprocess the data\"\"\"\n",
    "        pass\n",
    "\n",
    "    @abstractmethod\n",
    "    def generate_text(self, prompt):\n",
    "        \"\"\"Generate text using the model\"\"\"\n",
    "        pass\n",
    "\n",
    "    @abstractmethod\n",
    "    def postprocess_text(self, text):\n",
    "        \"\"\"Postprocess the generated text\"\"\"\n",
    "        pass"
   ]
  },
  {
   "cell_type": "code",
   "execution_count": null,
   "metadata": {},
   "outputs": [],
   "source": [
    "class GPT1Model(NLPModelInterface):\n",
    "    def load_model(self):\n",
    "        \"\"\"Load the GPT-1 model\"\"\"\n",
    "        # Implementation for loading GPT-1\n",
    "\n",
    "    def preprocess_data(self, data):\n",
    "        \"\"\"Preprocess the data for GPT-1\"\"\"\n",
    "        # Implementation for preprocessing data for GPT-1\n",
    "\n",
    "    def generate_text(self, prompt):\n",
    "        \"\"\"Generate text using GPT-1\"\"\"\n",
    "        # Implementation for generating text with GPT-1\n",
    "\n",
    "    def postprocess_text(self, text):\n",
    "        \"\"\"Postprocess the generated text for GPT-1\"\"\"\n",
    "        # Implementation for postprocessing text for GPT-1"
   ]
  },
  {
   "cell_type": "code",
   "execution_count": null,
   "metadata": {},
   "outputs": [],
   "source": [
    "class GPT2Model(NLPModelInterface):\n",
    "    def load_model(self):\n",
    "        \"\"\"Load the GPT-2 model\"\"\"\n",
    "        # Implementation for loading GPT-2\n",
    "\n",
    "    def preprocess_data(self, data):\n",
    "        \"\"\"Preprocess the data for GPT-2\"\"\"\n",
    "        # Implementation for preprocessing data for GPT-2\n",
    "\n",
    "    def generate_text(self, prompt):\n",
    "        \"\"\"Generate text using GPT-2\"\"\"\n",
    "        # Implementation for generating text with GPT-2\n",
    "\n",
    "    def postprocess_text(self, text):\n",
    "        \"\"\"Postprocess the generated text for GPT-2\"\"\"\n",
    "        # Implementation for postprocessing text for GPT-2"
   ]
  },
  {
   "cell_type": "code",
   "execution_count": null,
   "metadata": {},
   "outputs": [],
   "source": [
    "# Opens the file path and reads in the csv file line by line into a pd object\n",
    "import pandas as pd\n",
    "\n",
    "def read_csv_in_chunks(file_path, chunk_size=50000):\n",
    "    chunks = []\n",
    "    chunk_iter = pd.read_csv(file_path, chunksize=chunk_size)\n",
    "    \n",
    "    for chunk in chunk_iter:\n",
    "        chunks.append(chunk)\n",
    "    \n",
    "    return pd.concat(chunks, axis=0)"
   ]
  }
 ],
 "metadata": {
  "kernelspec": {
   "display_name": "Python 3",
   "language": "python",
   "name": "python3"
  },
  "language_info": {
   "name": "python",
   "version": "3.11.5"
  }
 },
 "nbformat": 4,
 "nbformat_minor": 2
}
